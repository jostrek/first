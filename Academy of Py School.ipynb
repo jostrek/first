{
 "cells": [
  {
   "cell_type": "code",
   "execution_count": 7,
   "metadata": {},
   "outputs": [],
   "source": [
    "import pandas as pd\n",
    "import numpy as np"
   ]
  },
  {
   "cell_type": "code",
   "execution_count": 14,
   "metadata": {},
   "outputs": [],
   "source": [
    "schooldata=\"../Resources/schools_complete.csv\"\n",
    "studentdata=\"../Resources/student_complete.csv\""
   ]
  },
  {
   "cell_type": "code",
   "execution_count": null,
   "metadata": {},
   "outputs": [],
   "source": [
    "school_data= pd.read_csv(schooldata)\n",
    "student_data= pd.read_csv(studentdata)"
   ]
  },
  {
   "cell_type": "code",
   "execution_count": null,
   "metadata": {},
   "outputs": [],
   "source": [
    "data=pd.merge(student_data, school_data, how=\"left\", on=[\"school_name\",\"school_name\"])"
   ]
  },
  {
   "cell_type": "code",
   "execution_count": null,
   "metadata": {},
   "outputs": [],
   "source": [
    "total_schools = len(df[\"School ID\"].unique())\n",
    "total_students = len(df[\"Student ID\"].unique())\n",
    "total_budget = '${:,.2f}'.format(school_data[\"budget\"].sum())\n",
    "average_math_score = df[\"math_score\"].mean()\n",
    "average_reading_score = df[\"reading_score\"].mean()\n",
    "percent_passing_math = (len(df.loc[df[\"math_score\"] >= 70][\"Student ID\"].unique())/total_students)*100\n",
    "percent_passing_reading = (len(df.loc[df[\"reading_score\"] >= 70][\"Student ID\"].unique())/total_students)*100\n",
    "passing_overall = (average_math_score+average_reading_score)/2"
   ]
  },
  {
   "cell_type": "code",
   "execution_count": null,
   "metadata": {},
   "outputs": [],
   "source": [
    "district_summary = pd.DataFrame({\"Total Schools\": total_schools,\n",
    "                              \"Total Students\": total_students,\n",
    "                              \"Total Budget\": total_budget,\n",
    "                              \"Average Math Score\": average_math_score,\n",
    "                              \"Average Reading Score\": average_reading_score,\n",
    "                              \"% Passing Math\": percent_passing_math,\n",
    "                              \"% Passing Reading\": percent_passing_reading,\n",
    "                              \"% Overall Passing Rate\": passing_overall\n",
    "                              },index=[\"District Summary\"])\n",
    "district_summary"
   ]
  },
  {
   "cell_type": "code",
   "execution_count": null,
   "metadata": {},
   "outputs": [],
   "source": [
    "df2 = df.groupby(['school_name'])\n",
    "print(df2)"
   ]
  }
 ],
 "metadata": {
  "kernelspec": {
   "display_name": "Python [conda env:pythondata]",
   "language": "python",
   "name": "conda-env-pythondata-py"
  },
  "language_info": {
   "codemirror_mode": {
    "name": "ipython",
    "version": 3
   },
   "file_extension": ".py",
   "mimetype": "text/x-python",
   "name": "python",
   "nbconvert_exporter": "python",
   "pygments_lexer": "ipython3",
   "version": "3.6.6"
  }
 },
 "nbformat": 4,
 "nbformat_minor": 2
}
